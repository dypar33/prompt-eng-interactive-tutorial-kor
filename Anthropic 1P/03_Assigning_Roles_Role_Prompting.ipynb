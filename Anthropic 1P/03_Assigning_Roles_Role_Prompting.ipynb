{
 "cells": [
  {
   "cell_type": "markdown",
   "metadata": {},
   "source": [
    "# 3장: 역할 할당하기 (역할 프롬프팅)\n",
    "\n",
    "- [수업](#lesson)\n",
    "- [연습 문제](#exercises)\n",
    "- [예제 플레이그라운드](#example-playground)\n",
    "\n",
    "## 설정\n",
    "\n",
    "다음 설정 셀을 실행하여 API 키를 로드하고 `get_completion` 도우미 함수를 설정하세요."
   ]
  },
  {
   "cell_type": "code",
   "execution_count": null,
   "metadata": {},
   "outputs": [],
   "source": [
    "!pip install anthropic\n",
    "\n",
    "# Python의 내장 정규 표현식 라이브러리 가져오기\n",
    "import re\n",
    "import anthropic\n",
    "\n",
    "# IPython 저장소에서 API_KEY 및 MODEL_NAME 변수 검색\n",
    "%store -r API_KEY\n",
    "%store -r MODEL_NAME\n",
    "\n",
    "client = anthropic.Anthropic(api_key=API_KEY)\n",
    "\n",
    "def get_completion(prompt: str, system_prompt=\"\"):\n",
    "    message = client.messages.create(\n",
    "        model=MODEL_NAME,\n",
    "        max_tokens=2000,\n",
    "        temperature=0.0,\n",
    "        system=system_prompt,\n",
    "        messages=[\n",
    "          {\"role\": \"user\", \"content\": prompt}\n",
    "        ]\n",
    "    )\n",
    "    return message.content[0].text"
   ]
  },
  {
   "cell_type": "markdown",
   "metadata": {},
   "source": [
    "---\n",
    "\n",
    "## 수업\n",
    "\n",
    "당신이 말하는 것 외에는 맥락이 없는 Claude의 주제를 계속 이어가면서, 때로는 **Claude가 특정 역할을 수행하도록 프롬프트하는 것(필요한 모든 맥락 포함)**이 중요합니다. 이를 역할 프롬프팅이라고도 합니다. 역할 맥락에 대한 세부 정보가 많을수록 더 좋습니다.\n",
    "\n",
    "**Claude에게 역할을 부여하면 Claude의 성능을 향상**시킬 수 있으며, 이는 글쓰기, 코딩, 요약 등 다양한 분야에서 적용됩니다. 이는 인간이 \"______처럼 생각해보세요\"라고 말할 때 도움을 받는 것과 같습니다. 역할 프롬프팅은 또한 Claude의 응답 스타일, 어조 및 방식을 변경할 수 있습니다.\n",
    "\n",
    "**참고:** 역할 프롬프팅은 시스템 프롬프트에서 또는 사용자 메시지 차례의 일부로 발생할 수 있습니다."
   ]
  },
  {
   "cell_type": "markdown",
   "metadata": {},
   "source": [
    "### 예제\n",
    "\n",
    "아래 예제에서, 역할 프롬프팅 없이 Claude는 스케이트보딩에 대한 한 문장 관점을 요청받았을 때 **직접적이고 스타일이 없는 답변**을 제공합니다.\n",
    "\n",
    "그러나 Claude가 고양이 역할을 수행하도록 프롬프트하면, Claude의 관점이 변하고, 따라서 **Claude의 응답 어조, 스타일, 내용이 새로운 역할에 맞게 조정**됩니다.\n",
    "\n",
    "**참고:** 사용할 수 있는 보너스 기술은 **Claude에게 의도된 청중에 대한 맥락을 제공**하는 것입니다. 아래에서, \"당신은 고양이입니다\"와 \"당신은 스케이트보더 무리에게 말하는 고양이입니다\"는 꽤 다른 응답을 생성합니다.\n",
    "\n",
    "다음은 시스템 프롬프트에서 역할 프롬프팅 없이 사용한 프롬프트입니다:"
   ]
  },
  {
   "cell_type": "code",
   "execution_count": null,
   "metadata": {},
   "outputs": [],
   "source": [
    "# 프롬프트\n",
    "PROMPT = \"한 문장으로, 스케이트보딩에 대해 어떻게 생각하나요?\"\n",
    "\n",
    "# Claude의 응답 출력\n",
    "print(get_completion(PROMPT))"
   ]
  },
  {
   "cell_type": "markdown",
   "metadata": {},
   "source": [
    "다음은 역할 프롬프팅을 사용한 동일한 사용자 질문입니다."
   ]
  },
  {
   "cell_type": "code",
   "execution_count": null,
   "metadata": {},
   "outputs": [],
   "source": [
    "# 시스템 프롬프트\n",
    "SYSTEM_PROMPT = \"당신은 고양이입니다.\"\n",
    "\n",
    "# 프롬프트\n",
    "PROMPT = \"한 문장으로, 스케이트보딩에 대해 어떻게 생각하나요?\"\n",
    "\n",
    "# Claude의 응답 출력\n",
    "print(get_completion(PROMPT, SYSTEM_PROMPT))"
   ]
  },
  {
   "cell_type": "markdown",
   "metadata": {},
   "source": [
    "역할 프롬프팅을 사용하여 Claude가 특정 스타일로 글을 쓰거나, 특정 목소리로 말하거나, 답변의 복잡성을 안내할 수 있습니다. **역할 프롬프팅은 또한 Claude가 수학이나 논리 작업을 더 잘 수행하도록 만들 수 있습니다.**\n",
    "\n",
    "예를 들어, 아래 예제에서는 명확한 정답이 있으며, 그것은 '예'입니다. 그러나 Claude는 잘못 판단하여 정보가 부족하다고 생각하지만, 실제로는 그렇지 않습니다:"
   ]
  },
  {
   "cell_type": "code",
   "execution_count": null,
   "metadata": {},
   "outputs": [],
   "source": [
    "# 프롬프트\n",
    "PROMPT = \"Jack은 Anne을 보고 있습니다. Anne은 George를 보고 있습니다. Jack은 결혼했고, George는 결혼하지 않았으며, Anne이 결혼했는지는 모릅니다. 결혼한 사람이 결혼하지 않은 사람을 보고 있나요?\"\n",
    "\n",
    "# Claude의 응답 출력\n",
    "print(get_completion(PROMPT))"
   ]
  },
  {
   "cell_type": "markdown",
   "metadata": {},
   "source": [
    "이제, **Claude가 논리 봇 역할을 하도록 프롬프트**하면 어떻게 될까요? 그것이 Claude의 답변을 어떻게 변경할까요?\n",
    "\n",
    "이 새로운 역할 할당으로 Claude는 정답을 맞춥니다. (비록 모든 올바른 이유는 아니지만)"
   ]
  },
  {
   "cell_type": "code",
   "execution_count": null,
   "metadata": {},
   "outputs": [],
   "source": [
    "# 시스템 프롬프트\n",
    "SYSTEM_PROMPT = \"당신은 복잡한 논리 문제를 해결하도록 설계된 논리 봇입니다.\"\n",
    "\n",
    "# 프롬프트\n",
    "PROMPT = \"Jack은 Anne을 보고 있습니다. Anne은 George를 보고 있습니다. Jack은 결혼했고, George는 결혼하지 않았으며, Anne이 결혼했는지는 모릅니다. 결혼한 사람이 결혼하지 않은 사람을 보고 있나요?\"\n",
    "\n",
    "# Claude의 응답 출력\n",
    "print(get_completion(PROMPT, SYSTEM_PROMPT))"
   ]
  },
  {
   "cell_type": "markdown",
   "metadata": {},
   "source": [
    "**참고:** 이 과정을 통해 배울 것은 **유사한 결과를 얻기 위해 사용할 수 있는 많은 프롬프트 엔지니어링 기술**이 있다는 것입니다. 어떤 기술을 사용할지는 당신과 당신의 선호도에 달려 있습니다! 우리는 **당신만의 프롬프트 엔지니어링 스타일을 찾기 위해 실험**해보기를 권장합니다.\n",
    "\n",
    "위의 내용을 변경하지 않고 수업 프롬프트를 실험해보고 싶다면, 수업 노트북의 맨 아래로 스크롤하여 [**예제 플레이그라운드**](#example-playground)를 방문하세요."
   ]
  },
  {
   "cell_type": "markdown",
   "metadata": {},
   "source": [
    "---\n",
    "\n",
    "## 연습 문제\n",
    "\n",
    "- [연습 문제 3.1 - 수학 교정](#exercise-31---math-correction)"
   ]
  },
  {
   "cell_type": "markdown",
   "metadata": {},
   "source": [
    "### 연습 문제 3.1 - 수학 교정\n",
    "\n",
    "어떤 경우에는 **Claude가 수학, 심지어 간단한 수학에서도 어려움을 겪을 수** 있습니다. 아래에서 Claude는 두 번째 단계에서 명백한 산술 오류가 있음에도 불구하고 수학 문제가 올바르게 해결되었다고 잘못 평가합니다. Claude가 단계별로 진행할 때 실수를 발견하지만, 전체 해결책이 잘못되었다는 결론으로 이어지지는 않습니다.\n",
    "\n",
    "`PROMPT` 및/또는 `SYSTEM_PROMPT`를 수정하여 Claude가 해결책을 올바르게 해결된 것이 아니라 `잘못` 해결된 것으로 평가하도록 만드세요."
   ]
  },
  {
   "cell_type": "code",
   "execution_count": null,
   "metadata": {},
   "outputs": [],
   "source": [
    "# 시스템 프롬프트 - 시스템 프롬프트를 사용하지 않으려면 이 변수를 빈 문자열로 설정할 수 있습니다\n",
    "SYSTEM_PROMPT = \"\"\n",
    "\n",
    "# 프롬프트\n",
    "PROMPT = \"\"\"아래 방정식이 올바르게 풀렸나요?\n",
    "\n",
    "2x - 3 = 9\n",
    "2x = 6\n",
    "x = 3\"\"\"\n",
    "\n",
    "# Claude의 응답 가져오기\n",
    "response = get_completion(PROMPT, SYSTEM_PROMPT)\n",
    "\n",
    "# 연습 문제 정확성을 평가하는 함수\n",
    "def grade_exercise(text):\n",
    "    if \"incorrect\" in text or \"not correct\" in text.lower():\n",
    "        return True\n",
    "    else:\n",
    "        return False\n",
    "\n",
    "# Claude의 응답과 해당 등급 출력\n",
    "print(response)\n",
    "print(\"\\n--------------------------- 채점 ---------------------------\")\n",
    "print(\"이 연습 문제가 올바르게 해결되었습니다:\", grade_exercise(response))"
   ]
  },
  {
   "cell_type": "markdown",
   "metadata": {},
   "source": [
    "❓ 힌트가 필요하면 아래 셀을 실행하세요!"
   ]
  },
  {
   "cell_type": "code",
   "execution_count": null,
   "metadata": {},
   "outputs": [],
   "source": [
    "from hints import exercise_3_1_hint; print(exercise_3_1_hint)"
   ]
  },
  {
   "cell_type": "markdown",
   "metadata": {},
   "source": [
    "### 축하합니다!\n",
    "\n",
    "지금까지 모든 연습 문제를 해결했다면, 다음 장으로 넘어갈 준비가 되었습니다. 즐거운 프롬프팅 되세요!"
   ]
  },
  {
   "cell_type": "markdown",
   "metadata": {},
   "source": [
    "---\n",
    "\n",
    "## 예제 플레이그라운드\n",
    "\n",
    "이 영역에서는 이 수업에서 보여준 프롬프트 예제를 자유롭게 실험하고 프롬프트를 조정하여 Claude의 응답에 어떤 영향을 미치는지 확인할 수 있습니다."
   ]
  },
  {
   "cell_type": "code",
   "execution_count": null,
   "metadata": {},
   "outputs": [],
   "source": [
    "# 프롬프트\n",
    "PROMPT = \"한 문장으로, 스케이트보딩에 대해 어떻게 생각하나요?\"\n",
    "\n",
    "# Claude의 응답 출력\n",
    "print(get_completion(PROMPT))"
   ]
  },
  {
   "cell_type": "code",
   "execution_count": null,
   "metadata": {},
   "outputs": [],
   "source": [
    "# 시스템 프롬프트\n",
    "SYSTEM_PROMPT = \"당신은 고양이입니다.\"\n",
    "\n",
    "# 프롬프트\n",
    "PROMPT = \"한 문장으로, 스케이트보딩에 대해 어떻게 생각하나요?\"\n",
    "\n",
    "# Claude의 응답 출력\n",
    "print(get_completion(PROMPT, SYSTEM_PROMPT))"
   ]
  },
  {
   "cell_type": "code",
   "execution_count": null,
   "metadata": {},
   "outputs": [],
   "source": [
    "# 프롬프트\n",
    "PROMPT = \"Jack은 Anne을 보고 있습니다. Anne은 George를 보고 있습니다. Jack은 결혼했고, George는 결혼하지 않았으며, Anne이 결혼했는지는 모릅니다. 결혼한 사람이 결혼하지 않은 사람을 보고 있나요?\"\n",
    "\n",
    "# Claude의 응답 출력\n",
    "print(get_completion(PROMPT))"
   ]
  },
  {
   "cell_type": "code",
   "execution_count": null,
   "metadata": {},
   "outputs": [],
   "source": [
    "# 시스템 프롬프트\n",
    "SYSTEM_PROMPT = \"당신은 복잡한 논리 문제를 해결하도록 설계된 논리 봇입니다.\"\n",
    "\n",
    "# 프롬프트\n",
    "PROMPT = \"Jack은 Anne을 보고 있습니다. Anne은 George를 보고 있습니다. Jack은 결혼했고, George는 결혼하지 않았으며, Anne이 결혼했는지는 모릅니다. 결혼한 사람이 결혼하지 않은 사람을 보고 있나요?\"\n",
    "\n",
    "# Claude의 응답 출력\n",
    "print(get_completion(PROMPT, SYSTEM_PROMPT))"
   ]
  }
 ],
 "metadata": {
  "kernelspec": {
   "display_name": "py310",
   "language": "python",
   "name": "python3"
  },
  "language_info": {
   "codemirror_mode": {
    "name": "ipython",
    "version": 3
   },
   "file_extension": ".py",
   "mimetype": "text/x-python",
   "name": "python",
   "nbconvert_exporter": "python",
   "pygments_lexer": "ipython3",
   "version": "3.10.14"
  }
 },
 "nbformat": 4,
 "nbformat_minor": 2
}
