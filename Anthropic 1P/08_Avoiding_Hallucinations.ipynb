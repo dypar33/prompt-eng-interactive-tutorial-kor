{
 "cells": [
  {
   "cell_type": "markdown",
   "metadata": {},
   "source": [
    "# 8장: 환각 방지하기\n",
    "\n",
    "- [수업](#lesson)\n",
    "- [연습 문제](#exercises)\n",
    "\n",
    "## 설정\n",
    "\n",
    "다음 설정 셀을 실행하여 API 키를 로드하고 `get_completion` 도우미 함수를 설정하세요."
   ]
  },
  {
   "cell_type": "code",
   "execution_count": null,
   "metadata": {},
   "outputs": [],
   "source": [
    "!pip install anthropic\n",
    "\n",
    "# Python의 내장 정규 표현식 라이브러리 가져오기\n",
    "import re\n",
    "import anthropic\n",
    "\n",
    "# IPython 저장소에서 API_KEY 및 MODEL_NAME 변수 검색\n",
    "%store -r API_KEY\n",
    "%store -r MODEL_NAME\n",
    "\n",
    "client = anthropic.Anthropic(api_key=API_KEY)\n",
    "\n",
    "def get_completion(prompt: str, system_prompt=\"\", prefill=\"\"):\n",
    "    message = client.messages.create(\n",
    "        model=MODEL_NAME,\n",
    "        max_tokens=2000,\n",
    "        temperature=0.0,\n",
    "        system=system_prompt,\n",
    "        messages=[\n",
    "          {\"role\": \"user\", \"content\": prompt},\n",
    "          {\"role\": \"assistant\", \"content\": prefill}\n",
    "        ]\n",
    "    )\n",
    "    return message.content[0].text"
   ]
  },
  {
   "cell_type": "markdown",
   "metadata": {},
   "source": [
    "---\n",
    "\n",
    "## 수업\n",
    "\n",
    "안 좋은 소식: **Claude는 때때로 \"환각\"을 일으켜 사실이 아니거나 정당화되지 않은 주장을 합니다**. 좋은 소식: 환각을 최소화하기 위해 사용할 수 있는 기술이 있습니다.\n",
    "\n",
    "아래에서는 이러한 기술 중 몇 가지를 살펴보겠습니다:\n",
    "\n",
    "- Claude에게 질문에 대한 답을 모른다고 말할 수 있는 옵션 제공하기\n",
    "- Claude에게 답변하기 전에 증거를 찾도록 요청하기\n",
    "\n",
    "그러나 **환각을 피하기 위한 많은 방법이 있으며**, 여기에는 이 과정에서 이미 배운 많은 기술이 포함됩니다. Claude가 환각을 일으키면 여러 기술을 실험하여 Claude의 정확도를 높이세요."
   ]
  },
  {
   "cell_type": "markdown",
   "metadata": {},
   "source": [
    "### 예제\n",
    "\n",
    "다음은 일반적인 사실 지식에 관한 질문으로, **Claude는 가능한 한 도움이 되려고 하기 때문에 여러 마리의 큰 하마에 대해 환각을 일으킵니다**."
   ]
  },
  {
   "cell_type": "code",
   "execution_count": null,
   "metadata": {},
   "outputs": [],
   "source": [
    "# 프롬프트\n",
    "PROMPT = \"역대 가장 무거운 하마는 누구인가요?\"\n",
    "\n",
    "# Claude의 응답 출력\n",
    "print(get_completion(PROMPT))"
   ]
  },
  {
   "cell_type": "markdown",
   "metadata": {},
   "source": [
    "여기서 시도할 수 있는 해결책은 \"**Claude에게 회피 방법을 제공하는 것**\"입니다 — Claude에게 답변을 거부하거나 확실히 알고 있는 경우에만 답변하도록 말하세요."
   ]
  },
  {
   "cell_type": "code",
   "execution_count": null,
   "metadata": {},
   "outputs": [],
   "source": [
    "# 프롬프트\n",
    "PROMPT = \"역대 가장 무거운 하마는 누구인가요? 확실히 알고 있는 경우에만 답변하세요.\"\n",
    "\n",
    "# Claude의 응답 출력\n",
    "print(get_completion(PROMPT))"
   ]
  },
  {
   "cell_type": "markdown",
   "metadata": {},
   "source": [
    "아래 프롬프트에서는 Claude에게 사용자의 질문과 거의 관련이 있지만 완전히 관련되지는 않은 \"방해 정보\"가 포함된 긴 문서를 제공합니다. **프롬프트 도움 없이 Claude는 방해 정보에 속아** 2020년 5월 31일 기준 Matterport의 구독자 기반에 대한 잘못된 \"환각\" 답변을 제공합니다.\n",
    "\n",
    "**참고:** 다음 장에서 배우게 되겠지만, **모든 텍스트나 문서 후에 질문을 맨 아래에 두는 것이 가장 좋은 방법**이지만, 여기서는 프롬프트를 더 쉽게 읽을 수 있도록 맨 위에 두었습니다."
   ]
  },
  {
   "cell_type": "code",
   "execution_count": null,
   "metadata": {},
   "outputs": [],
   "source": [
    "# 프롬프트\n",
    "PROMPT = \"\"\"<question>2020년 5월 31일 정확한 날짜에 Matterport의 구독자 기반은 얼마였나요?</question>\n",
    "\n",
    "아래 문서를 읽고 <answer> 태그 안에 간단한 숫자 답변을 작성해주세요.\n",
    "\n",
    "<document>\n",
    "Matterport SEC filing 10-K 2023\n",
    "\n",
    "Item 1. Business\n",
    "\n",
    "Our Company\n",
    "\n",
    "Matterport is leading the digitization and datafication of the built world. We believe the digital transformation of the built world will fundamentally change the way people interact with buildings and the physical spaces around them.\n",
    "\n",
    "Since its founding in 2011, Matterport's pioneering technology has set the standard for digitizing, accessing and managing buildings, spaces and places online. Our platform's innovative software, spatial data-driven data science, and 3D capture technology have broken down the barriers that have kept the largest asset class in the world, buildings and physical spaces, offline and underutilized for many years.\n",
    "\n",
    "As of December 31, 2022, our subscriber base had grown approximately 39% to over 701,000 subscribers from 503,000 subscribers as of December 31, 2021, with our digital twins reaching more than 170 countries. We have digitized more than 28 billion square feet of space across multiple industries, representing significant scale and growth over the rest of the market.\n",
    "</document>\"\"\"\n",
    "\n",
    "# Claude의 응답 출력\n",
    "print(get_completion(PROMPT))"
   ]
  },
  {
   "cell_type": "markdown",
   "metadata": {},
   "source": [
    "이제 Claude에게 문서에 정보가 없는 경우 \"모름\"이라고 말하도록 지시하여 이 문제를 해결해 보겠습니다."
   ]
  },
  {
   "cell_type": "code",
   "execution_count": null,
   "metadata": {},
   "outputs": [],
   "source": [
    "# 프롬프트\n",
    "PROMPT = \"\"\"<question>2020년 5월 31일 정확한 날짜에 Matterport의 구독자 기반은 얼마였나요?</question>\n",
    "\n",
    "아래 문서를 읽고 <answer> 태그 안에 간단한 숫자 답변을 작성해주세요. 문서에 정확한 정보가 없는 경우 <answer>모름</answer>이라고 답변하세요.\n",
    "\n",
    "<document>\n",
    "Matterport SEC filing 10-K 2023\n",
    "\n",
    "Item 1. Business\n",
    "\n",
    "Our Company\n",
    "\n",
    "Matterport is leading the digitization and datafication of the built world. We believe the digital transformation of the built world will fundamentally change the way people interact with buildings and the physical spaces around them.\n",
    "\n",
    "Since its founding in 2011, Matterport's pioneering technology has set the standard for digitizing, accessing and managing buildings, spaces and places online. Our platform's innovative software, spatial data-driven data science, and 3D capture technology have broken down the barriers that have kept the largest asset class in the world, buildings and physical spaces, offline and underutilized for many years.\n",
    "\n",
    "As of December 31, 2022, our subscriber base had grown approximately 39% to over 701,000 subscribers from 503,000 subscribers as of December 31, 2021, with our digital twins reaching more than 170 countries. We have digitized more than 28 billion square feet of space across multiple industries, representing significant scale and growth over the rest of the market.\n",
    "</document>\"\"\"\n",
    "\n",
    "# Claude의 응답 출력\n",
    "print(get_completion(PROMPT))"
   ]
  },
  {
   "cell_type": "markdown",
   "metadata": {},
   "source": [
    "---\n",
    "\n",
    "## 연습 문제\n",
    "\n",
    "- [연습 문제 8.1 - 환각 방지하기](#exercise-81---preventing-hallucinations)"
   ]
  },
  {
   "cell_type": "markdown",
   "metadata": {},
   "source": [
    "### 연습 문제 8.1 - 환각 방지하기\n",
    "\n",
    "이 연습에서는 Claude가 환각을 일으키지 않도록 프롬프트를 수정할 것입니다. 아래 프롬프트에서 Claude는 \"Matterport의 2020년 5월 31일 구독자 기반\"에 대한 정보가 없음에도 불구하고 환각을 일으킵니다.\n",
    "\n",
    "Claude가 환각을 일으키지 않고 \"모름\"이라고 답변하도록 `PROMPT`를 수정하세요."
   ]
  },
  {
   "cell_type": "code",
   "execution_count": null,
   "metadata": {},
   "outputs": [],
   "source": [
    "# 프롬프트\n",
    "PROMPT = \"\"\"<question>2020년 5월 31일 정확한 날짜에 Matterport의 구독자 기반은 얼마였나요?</question>\n",
    "\n",
    "아래 문서를 읽고 <answer> 태그 안에 간단한 숫자 답변을 작성해주세요.\n",
    "\n",
    "<document>\n",
    "Matterport SEC filing 10-K 2023\n",
    "\n",
    "Item 1. Business\n",
    "\n",
    "Our Company\n",
    "\n",
    "Matterport is leading the digitization and datafication of the built world. We believe the digital transformation of the built world will fundamentally change the way people interact with buildings and the physical spaces around them.\n",
    "\n",
    "Since its founding in 2011, Matterport's pioneering technology has set the standard for digitizing, accessing and managing buildings, spaces and places online. Our platform's innovative software, spatial data-driven data science, and 3D capture technology have broken down the barriers that have kept the largest asset class in the world, buildings and physical spaces, offline and underutilized for many years.\n",
    "\n",
    "As of December 31, 2022, our subscriber base had grown approximately 39% to over 701,000 subscribers from 503,000 subscribers as of December 31, 2021, with our digital twins reaching more than 170 countries. We have digitized more than 28 billion square feet of space across multiple industries, representing significant scale and growth over the rest of the market.\n",
    "</document>\"\"\"\n",
    "\n",
    "# Claude의 응답 가져오기\n",
    "response = get_completion(PROMPT)\n",
    "\n",
    "# 연습 문제 정확성을 평가하는 함수\n",
    "def grade_exercise(text):\n",
    "    return bool(re.search(\"모름\", text))\n",
    "\n",
    "# Claude의 응답 출력\n",
    "print(\"--------------------------- 프롬프트 ---------------------------\")\n",
    "print(PROMPT)\n",
    "print(\"\\n------------------------------------- Claude의 응답 -------------------------------------\")\n",
    "print(response)\n",
    "print(\"\\n------------------------------------------ 채점 ------------------------------------------\")\n",
    "print(\"이 연습 문제가 올바르게 해결되었습니다:\", grade_exercise(response))"
   ]
  },
  {
   "cell_type": "markdown",
   "metadata": {},
   "source": [
    "❓ 힌트가 필요하면 아래 셀을 실행하세요!"
   ]
  },
  {
   "cell_type": "code",
   "execution_count": null,
   "metadata": {},
   "outputs": [],
   "source": [
    "from hints import exercise_8_1_hint; print(exercise_8_1_hint)"
   ]
  },
  {
   "cell_type": "markdown",
   "metadata": {},
   "source": [
    "### 축하합니다!\n",
    "\n",
    "지금까지 모든 연습 문제를 해결했다면, 다음 장으로 넘어갈 준비가 되었습니다. 즐거운 프롬프팅 되세요!"
   ]
  }
 ],
 "metadata": {
  "kernelspec": {
   "display_name": "py310",
   "language": "python",
   "name": "python3"
  },
  "language_info": {
   "codemirror_mode": {
    "name": "ipython",
    "version": 3
   },
   "file_extension": ".py",
   "mimetype": "text/x-python",
   "name": "python",
   "nbconvert_exporter": "python",
   "pygments_lexer": "ipython3",
   "version": "3.10.14"
  }
 },
 "nbformat": 4,
 "nbformat_minor": 2
}
