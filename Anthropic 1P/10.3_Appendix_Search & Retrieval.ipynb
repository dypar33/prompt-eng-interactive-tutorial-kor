{
 "cells": [
  {
   "cell_type": "markdown",
   "metadata": {},
   "source": [
    "# 부록 10.3: 검색 및 검색 결과 활용\n",
    "\n",
    "Claude를 사용하여 **위키피디아를 검색**할 수 있다는 것을 알고 계셨나요? Claude는 기사를 찾고 검색할 수 있으며, 이후 Claude를 사용하여 이를 요약하고 종합하거나, 찾은 내용을 바탕으로 새로운 콘텐츠를 작성하는 등 다양한 작업을 수행할 수 있습니다. 그리고 위키피디아뿐만 아니라! 일반 텍스트로 저장되거나 벡터 데이터스토어에 임베딩된 자신의 문서도 검색할 수 있습니다.\n",
    "\n",
    "[RAG 쿡북 예제](https://github.com/anthropics/anthropic-cookbook/blob/main/third_party/Wikipedia/wikipedia-search-cookbook.ipynb)를 참조하여 Claude의 지식을 보완하고 벡터 데이터베이스, 위키피디아, 인터넷 등에서 검색한 데이터로 Claude의 응답의 정확성과 관련성을 향상시키는 방법을 알아보세요. 또한 특정 [임베딩](https://docs.anthropic.com/claude/docs/embeddings)과 벡터 데이터베이스 도구를 사용하는 방법에 대해서도 배울 수 있습니다.\n",
    "\n",
    "Claude를 사용한 고급 RAG 아키텍처에 대해 알아보고 싶다면, [RAG 아키텍처에 관한 Claude 3 기술 프레젠테이션 슬라이드](https://docs.google.com/presentation/d/1zxkSI7lLUBrZycA-_znwqu8DDyVhHLkQGScvzaZrUns/edit#slide=id.g2c736259dac_63_782)를 확인해보세요."
   ]
  }
 ],
 "metadata": {
  "kernelspec": {
   "display_name": "py310",
   "language": "python",
   "name": "python3"
  },
  "language_info": {
   "codemirror_mode": {
    "name": "ipython",
    "version": 3
   },
   "file_extension": ".py",
   "mimetype": "text/x-python",
   "name": "python",
   "nbconvert_exporter": "python",
   "pygments_lexer": "ipython3",
   "version": "3.10.14"
  }
 },
 "nbformat": 4,
 "nbformat_minor": 2
}
