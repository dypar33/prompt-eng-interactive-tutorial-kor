{
 "cells": [
  {
   "cell_type": "markdown",
   "metadata": {},
   "source": [
    "# 2장: 명확하고 직접적인 표현하기\n",
    "\n",
    "- [수업](#lesson)\n",
    "- [연습 문제](#exercises)\n",
    "- [예제 플레이그라운드](#example-playground)\n",
    "\n",
    "## 설정\n",
    "\n",
    "다음 설정 셀을 실행하여 API 키를 로드하고 `get_completion` 도우미 함수를 설정하세요."
   ]
  },
  {
   "cell_type": "code",
   "execution_count": null,
   "metadata": {},
   "outputs": [],
   "source": [
    "!pip install anthropic\n",
    "\n",
    "# Python의 내장 정규 표현식 라이브러리 가져오기\n",
    "import re\n",
    "import anthropic\n",
    "\n",
    "# IPython 저장소에서 API_KEY 및 MODEL_NAME 변수 검색\n",
    "%store -r API_KEY\n",
    "%store -r MODEL_NAME\n",
    "\n",
    "client = anthropic.Anthropic(api_key=API_KEY)\n",
    "\n",
    "# 이 수업에서는 연습 문제에서 더 긴 완성을 허용하기 위해 max_tokens를 4K로 변경했습니다\n",
    "def get_completion(prompt: str, system_prompt=\"\"):\n",
    "    message = client.messages.create(\n",
    "        model=MODEL_NAME,\n",
    "        max_tokens=4000,\n",
    "        temperature=0.0,\n",
    "        system=system_prompt,\n",
    "        messages=[\n",
    "          {\"role\": \"user\", \"content\": prompt}\n",
    "        ]\n",
    "    )\n",
    "    return message.content[0].text"
   ]
  },
  {
   "cell_type": "markdown",
   "metadata": {},
   "source": [
    "---\n",
    "\n",
    "## 수업\n",
    "\n",
    "**Claude는 명확하고 직접적인 지시에 가장 잘 응답합니다.**\n",
    "\n",
    "Claude를 새로운 직업에 온 다른 사람처럼 생각하세요. **Claude는 당신이 문자 그대로 말한 것 외에는 무엇을 해야 할지에 대한 맥락이 없습니다**. 인간에게 처음으로 작업을 지시할 때와 마찬가지로, Claude에게 원하는 것을 직접적인 방식으로 정확히 설명할수록 Claude의 응답은 더 좋고 정확해질 것입니다.\"\n",
    "\n",
    "의심스러울 때는 **명확한 프롬프트의 황금률**을 따르세요:\n",
    "\n",
    "- 동료나 친구에게 프롬프트를 보여주고 그들이 지시를 따라 원하는 결과를 만들 수 있는지 확인하세요. 그들이 혼란스러워한다면, Claude도 혼란스러워합니다."
   ]
  },
  {
   "cell_type": "markdown",
   "metadata": {},
   "source": [
    "### 예제\n",
    "\n",
    "시 쓰기와 같은 작업을 살펴보겠습니다. (음절 불일치는 무시하세요 - LLM은 아직 음절을 세는 것이 완벽하지 않습니다.)"
   ]
  },
  {
   "cell_type": "code",
   "execution_count": null,
   "metadata": {},
   "outputs": [],
   "source": [
    "# 프롬프트\n",
    "PROMPT = \"로봇에 대한 하이쿠를 작성해주세요.\"\n",
    "\n",
    "# Claude의 응답 출력\n",
    "print(get_completion(PROMPT))"
   ]
  },
  {
   "cell_type": "markdown",
   "metadata": {},
   "source": [
    "이 하이쿠는 충분히 좋지만, 사용자는 Claude가 \"여기 하이쿠가 있습니다\"라는 서문 없이 바로 시로 들어가기를 원할 수 있습니다.\n",
    "\n",
    "어떻게 그것을 달성할 수 있을까요? **요청하면 됩니다**!"
   ]
  },
  {
   "cell_type": "code",
   "execution_count": null,
   "metadata": {},
   "outputs": [],
   "source": [
    "# 프롬프트\n",
    "PROMPT = \"로봇에 대한 하이쿠를 작성해주세요. 서문을 건너뛰고 바로 시로 들어가세요.\"\n",
    "\n",
    "# Claude의 응답 출력\n",
    "print(get_completion(PROMPT))"
   ]
  },
  {
   "cell_type": "markdown",
   "metadata": {},
   "source": [
    "다른 예를 살펴보겠습니다. Claude에게 역대 최고의 농구 선수가 누구인지 물어보겠습니다. 아래에서 볼 수 있듯이 Claude는 몇 명의 이름을 나열하지만, **확정적인 \"최고\"를 응답하지 않습니다**."
   ]
  },
  {
   "cell_type": "code",
   "execution_count": null,
   "metadata": {},
   "outputs": [],
   "source": [
    "# 프롬프트\n",
    "PROMPT = \"역대 최고의 농구 선수는 누구인가요?\"\n",
    "\n",
    "# Claude의 응답 출력\n",
    "print(get_completion(PROMPT))"
   ]
  },
  {
   "cell_type": "markdown",
   "metadata": {},
   "source": [
    "Claude가 결정을 내리고 최고의 선수를 선택하게 할 수 있을까요? 네! 그냥 물어보세요!"
   ]
  },
  {
   "cell_type": "code",
   "execution_count": null,
   "metadata": {},
   "outputs": [],
   "source": [
    "# 프롬프트\n",
    "PROMPT = \"역대 최고의 농구 선수는 누구인가요? 네, 다양한 의견이 있지만, 만약 당신이 절대적으로 한 선수를 선택해야 한다면, 누구를 선택하겠습니까?\"\n",
    "\n",
    "# Claude의 응답 출력\n",
    "print(get_completion(PROMPT))"
   ]
  },
  {
   "cell_type": "markdown",
   "metadata": {},
   "source": [
    "위의 내용을 변경하지 않고 수업 프롬프트를 실험해보고 싶다면, 수업 노트북의 맨 아래로 스크롤하여 [**예제 플레이그라운드**](#example-playground)를 방문하세요."
   ]
  },
  {
   "cell_type": "markdown",
   "metadata": {},
   "source": [
    "---\n",
    "\n",
    "## 연습 문제\n",
    "\n",
    "- [연습 문제 2.1 - 스페인어](#exercise-21---spanish)\n",
    "- [연습 문제 2.2 - 한 선수만](#exercise-22---one-player-only)\n",
    "- [연습 문제 2.3 - 이야기 쓰기](#exercise-23---write-a-story)"
   ]
  },
  {
   "cell_type": "markdown",
   "metadata": {},
   "source": [
    "### 연습 문제 2.1 - 스페인어\n",
    "\n",
    "Claude가 스페인어로 답변을 출력하도록 `SYSTEM_PROMPT`를 수정하세요."
   ]
  },
  {
   "cell_type": "code",
   "execution_count": null,
   "metadata": {},
   "outputs": [],
   "source": [
    "# 시스템 프롬프트 - 변경해야 할 유일한 필드입니다\n",
    "SYSTEM_PROMPT = \"[이 텍스트를 바꾸세요]\"\n",
    "\n",
    "# 프롬프트\n",
    "PROMPT = \"안녕 Claude, 어떻게 지내?\"\n",
    "\n",
    "# Claude의 응답 가져오기\n",
    "response = get_completion(PROMPT, SYSTEM_PROMPT)\n",
    "\n",
    "# 연습 문제 정확성을 평가하는 함수\n",
    "def grade_exercise(text):\n",
    "    return \"hola\" in text.lower()\n",
    "\n",
    "# Claude의 응답과 해당 등급 출력\n",
    "print(response)\n",
    "print(\"\\n--------------------------- 채점 ---------------------------\")\n",
    "print(\"이 연습 문제가 올바르게 해결되었습니다:\", grade_exercise(response))"
   ]
  },
  {
   "cell_type": "markdown",
   "metadata": {},
   "source": [
    "❓ 힌트가 필요하면 아래 셀을 실행하세요!"
   ]
  },
  {
   "cell_type": "code",
   "execution_count": null,
   "metadata": {},
   "outputs": [],
   "source": [
    "from hints import exercise_2_1_hint; print(exercise_2_1_hint)"
   ]
  },
  {
   "cell_type": "markdown",
   "metadata": {},
   "source": [
    "### 연습 문제 2.2 - 한 선수만\n",
    "\n",
    "`PROMPT`를 수정하여 Claude가 전혀 망설이지 않고 **오직** 한 명의 특정 선수의 이름만 응답하도록 하세요. **다른 단어나 문장 부호 없이** 응답해야 합니다."
   ]
  },
  {
   "cell_type": "code",
   "execution_count": null,
   "metadata": {},
   "outputs": [],
   "source": [
    "# 프롬프트 - 변경해야 할 유일한 필드입니다\n",
    "PROMPT = \"[이 텍스트를 바꾸세요]\"\n",
    "\n",
    "# Claude의 응답 가져오기\n",
    "response = get_completion(PROMPT)\n",
    "\n",
    "# 연습 문제 정확성을 평가하는 함수\n",
    "def grade_exercise(text):\n",
    "    return text == \"Michael Jordan\"\n",
    "\n",
    "# Claude의 응답과 해당 등급 출력\n",
    "print(response)\n",
    "print(\"\\n--------------------------- 채점 ---------------------------\")\n",
    "print(\"이 연습 문제가 올바르게 해결되었습니다:\", grade_exercise(response))"
   ]
  },
  {
   "cell_type": "markdown",
   "metadata": {},
   "source": [
    "❓ 힌트가 필요하면 아래 셀을 실행하세요!"
   ]
  },
  {
   "cell_type": "code",
   "execution_count": null,
   "metadata": {},
   "outputs": [],
   "source": [
    "from hints import exercise_2_2_hint; print(exercise_2_2_hint)"
   ]
  },
  {
   "cell_type": "markdown",
   "metadata": {},
   "source": [
    "### 연습 문제 2.3 - 이야기 쓰기\n",
    "\n",
    "`PROMPT`를 수정하여 Claude가 가능한 한 긴 응답을 제공하도록 하세요. 답변이 **800단어 이상**이면 Claude의 응답은 정답으로 채점됩니다."
   ]
  },
  {
   "cell_type": "code",
   "execution_count": null,
   "metadata": {},
   "outputs": [],
   "source": [
    "# 프롬프트 - 변경해야 할 유일한 필드입니다\n",
    "PROMPT = \"[이 텍스트를 바꾸세요]\"\n",
    "\n",
    "# Claude의 응답 가져오기\n",
    "response = get_completion(PROMPT)\n",
    "\n",
    "# 연습 문제 정확성을 평가하는 함수\n",
    "def grade_exercise(text):\n",
    "    trimmed = text.strip()\n",
    "    words = len(trimmed.split())\n",
    "    return words >= 800\n",
    "\n",
    "# Claude의 응답과 해당 등급 출력\n",
    "print(response)\n",
    "print(\"\\n--------------------------- 채점 ---------------------------\")\n",
    "print(\"이 연습 문제가 올바르게 해결되었습니다:\", grade_exercise(response))"
   ]
  },
  {
   "cell_type": "markdown",
   "metadata": {},
   "source": [
    "❓ 힌트가 필요하면 아래 셀을 실행하세요!"
   ]
  },
  {
   "cell_type": "code",
   "execution_count": null,
   "metadata": {},
   "outputs": [],
   "source": [
    "from hints import exercise_2_3_hint; print(exercise_2_3_hint)"
   ]
  },
  {
   "cell_type": "markdown",
   "metadata": {},
   "source": [
    "### 축하합니다!\n",
    "\n",
    "지금까지 모든 연습 문제를 해결했다면, 다음 장으로 넘어갈 준비가 되었습니다. 즐거운 프롬프팅 되세요!"
   ]
  },
  {
   "cell_type": "markdown",
   "metadata": {},
   "source": [
    "---\n",
    "\n",
    "## 예제 플레이그라운드\n",
    "\n",
    "이 영역에서는 이 수업에서 보여준 프롬프트 예제를 자유롭게 실험하고 프롬프트를 조정하여 Claude의 응답에 어떤 영향을 미치는지 확인할 수 있습니다."
   ]
  },
  {
   "cell_type": "code",
   "execution_count": null,
   "metadata": {},
   "outputs": [],
   "source": [
    "# 프롬프트\n",
    "PROMPT = \"로봇에 대한 하이쿠를 작성해주세요.\"\n",
    "\n",
    "# Claude의 응답 출력\n",
    "print(get_completion(PROMPT))"
   ]
  },
  {
   "cell_type": "code",
   "execution_count": null,
   "metadata": {},
   "outputs": [],
   "source": [
    "# 프롬프트\n",
    "PROMPT = \"로봇에 대한 하이쿠를 작성해주세요. 서문을 건너뛰고 바로 시로 들어가세요.\"\n",
    "\n",
    "# Claude의 응답 출력\n",
    "print(get_completion(PROMPT))"
   ]
  },
  {
   "cell_type": "code",
   "execution_count": null,
   "metadata": {},
   "outputs": [],
   "source": [
    "# 프롬프트\n",
    "PROMPT = \"역대 최고의 농구 선수는 누구인가요?\"\n",
    "\n",
    "# Claude의 응답 출력\n",
    "print(get_completion(PROMPT))"
   ]
  },
  {
   "cell_type": "code",
   "execution_count": null,
   "metadata": {},
   "outputs": [],
   "source": [
    "# 프롬프트\n",
    "PROMPT = \"역대 최고의 농구 선수는 누구인가요? 네, 다양한 의견이 있지만, 만약 당신이 절대적으로 한 선수를 선택해야 한다면, 누구를 선택하겠습니까?\"\n",
    "\n",
    "# Claude의 응답 출력\n",
    "print(get_completion(PROMPT))"
   ]
  }
 ],
 "metadata": {
  "kernelspec": {
   "display_name": "py310",
   "language": "python",
   "name": "python3"
  },
  "language_info": {
   "codemirror_mode": {
    "name": "ipython",
    "version": 3
   },
   "file_extension": ".py",
   "mimetype": "text/x-python",
   "name": "python",
   "nbconvert_exporter": "python",
   "pygments_lexer": "ipython3",
   "version": "3.10.14"
  }
 },
 "nbformat": 4,
 "nbformat_minor": 2
}
