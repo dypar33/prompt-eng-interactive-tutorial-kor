{
 "cells": [
  {
   "cell_type": "markdown",
   "metadata": {},
   "source": [
    "# 부록 10.2: 도구 사용\n",
    "\n",
    "- [수업](#lesson)\n",
    "- [연습 문제](#exercises)\n",
    "\n",
    "## 설정\n",
    "\n",
    "다음 설정 셀을 실행하여 API 키를 로드하고 `get_completion` 도우미 함수를 설정하세요."
   ]
  },
  {
   "cell_type": "code",
   "execution_count": null,
   "metadata": {},
   "outputs": [],
   "source": [
    "!pip install anthropic\n",
    "\n",
    "# Python의 내장 정규 표현식 라이브러리 가져오기\n",
    "import re\n",
    "import anthropic\n",
    "\n",
    "# IPython 저장소에서 API_KEY 변수 검색\n",
    "%store -r API_KEY\n",
    "\n",
    "client = anthropic.Anthropic(api_key=API_KEY)\n",
    "\n",
    "# 일반적으로 도구 사용에 더 나은 Claude 3 Sonnet을 호출하도록 다시 작성되었으며, stop_sequences 포함\n",
    "def get_completion(messages, system_prompt=\"\", prefill=\"\",stop_sequences=None):\n",
    "    message = client.messages.create(\n",
    "        model=\"claude-3-sonnet-20240229\",\n",
    "        max_tokens=2000,\n",
    "        temperature=0.0,\n",
    "        system=system_prompt,\n",
    "        messages=messages,\n",
    "        stop_sequences=stop_sequences\n",
    "    )\n",
    "    return message.content[0].text"
   ]
  },
  {
   "cell_type": "markdown",
   "metadata": {},
   "source": [
    "---\n",
    "\n",
    "## 수업\n",
    "\n",
    "처음에는 개념적으로 복잡해 보일 수 있지만, 도구 사용(일명 함수 호출)은 실제로 매우 간단합니다! 도구 사용을 구현하는 데 필요한 모든 기술을 이미 알고 있습니다. 도구 사용은 대체와 프롬프트 체이닝의 조합에 불과합니다.\n",
    "\n",
    "이전 대체 연습에서는 프롬프트에 텍스트를 대체했습니다. 도구 사용에서는 도구나 함수 결과를 프롬프트에 대체합니다. Claude는 문자 그대로 도구와 함수를 호출하거나 접근할 수 없습니다. 대신, Claude가 다음과 같이 하도록 합니다:\n",
    "\n",
    "1. 호출하려는 도구 이름과 인수를 출력\n",
    "2. 도구가 호출되는 동안 추가 응답 생성을 중지\n",
    "3. 그런 다음 도구 결과를 추가하여 다시 프롬프트\n",
    "\n",
    "함수 호출은 Claude의 기능을 확장하고 Claude가 훨씬 더 복잡하고 다단계 작업을 처리할 수 있게 해주기 때문에 유용합니다.\n",
    "\n",
    "Claude에게 제공할 수 있는 함수의 몇 가지 예:\n",
    "\n",
    "- 계산기\n",
    "- 단어 카운터\n",
    "- SQL 데이터베이스 쿼리 및 데이터 검색\n",
    "- 날씨 API\n",
    "\n",
    "다음 두 요소를 결합하여 Claude가 도구를 사용하도록 할 수 있습니다:\n",
    "\n",
    "1. 시스템 프롬프트: Claude에게 도구 사용 개념에 대한 설명과 접근할 수 있는 도구의 상세한 설명 목록을 제공합니다.\n",
    "2. Claude의 도구 사용 요청을 조정하고 실행하는 제어 로직"
   ]
  },
  {
   "cell_type": "markdown",
   "metadata": {},
   "source": [
    "### 도구 사용 로드맵\n",
    "\n",
    "*이 수업에서는 현재 도구 사용 형식을 가르칩니다. 그러나 가까운 미래에 다음을 포함하여 도구 사용 기능을 업데이트하고 개선할 예정입니다:*\n",
    "\n",
    "* *함수 정의 및 호출을 위한 더 간소화된 형식*\n",
    "* *더 강력한 오류 처리 및 엣지 케이스 처리*\n",
    "* *API의 나머지 부분과의 더 긴밀한 통합*\n",
    "* *특히 더 복잡한 도구 사용 작업에 대한 더 나은 신뢰성 및 성능*"
   ]
  },
  {
   "cell_type": "markdown",
   "metadata": {},
   "source": [
    "### 예제\n",
    "\n",
    "Claude에서 도구 사용을 활성화하려면 시스템 프롬프트부터 시작합니다. 이 특별한 도구 사용 시스템 프롬프트에서 Claude에게 다음을 알려줍니다:\n",
    "\n",
    "* 도구 사용의 기본 전제와 그것이 수반하는 것\n",
    "* Claude가 제공된 도구를 호출하고 사용하는 방법\n",
    "* 이 특정 시나리오에서 접근할 수 있는 도구의 상세한 목록\n",
    "\n",
    "다음은 Claude에게 도구 사용을 설명하는 시스템 프롬프트의 첫 번째 부분입니다. 시스템 프롬프트의 이 부분은 Claude에게 도구 사용을 프롬프트하는 모든 인스턴스에서 일반화할 수 있습니다. Claude에게 제공하는 도구 호출 구조(`<function_calls> [...] </function_calls>`)는 Claude가 특별히 사용하도록 훈련된 구조이므로, 이를 고수하는 것이 좋습니다."
   ]
  },
  {
   "cell_type": "code",
   "execution_count": null,
   "metadata": {},
   "outputs": [],
   "source": [
    "system_prompt_tools_general_explanation = \"\"\"You have access to a set of functions you can use to answer the user's question. This includes access to a\n",
    "sandboxed computing environment. You do NOT currently have the ability to inspect files or interact with external\n",
    "resources, except by invoking the below functions.\n",
    "\n",
    "You can invoke one or more functions by writing a \"<function_calls>\" block like the following as part of your\n",
    "reply to the user:\n",
    "<function_calls>\n",
    "<invoke name=\"$FUNCTION_NAME\">\n",
    "<parameter name=\"$PARAMETER_NAME\">$PARAMETER_VALUE</parameter>\n",
    "...\n",
    "</invoke>\n",
    "<nvoke name=\"$FUNCTION_NAME2\">\n",
    "...\n",
    "</invoke>\n",
    "</function_calls>\n",
    "\n",
    "String and scalar parameters should be specified as is, while lists and objects should use JSON format. Note that\n",
    "spaces for string values are not stripped. The output is not expected to be valid XML and is parsed with regular\n",
    "expressions.\n",
    "\n",
    "The output and/or any errors will appear in a subsequent \"<function_results>\" block, and remain there as part of\n",
    "your reply to the user.\n",
    "You may then continue composing the rest of your reply to the user, respond to any errors, or make further function\n",
    "calls as appropriate.\n",
    "If a \"<function_results>\" does NOT appear after your function calls, then they are likely malformatted and not\n",
    "recognized as a call.\"\"\""
   ]
  },
  {
   "cell_type": "markdown",
   "metadata": {},
   "source": [
    "다음은 시스템 프롬프트의 두 번째 부분으로, 이 특정 상황에서 Claude가 접근할 수 있는 정확한 도구를 정의합니다. 이 예제에서는 Claude에게 계산기 도구를 제공할 것입니다. 이 도구는 두 개의 피연산자와 하나의 연산자, 총 세 개의 매개변수를 받습니다.\n",
    "\n",
    "그런 다음 시스템 프롬프트의 두 부분을 결합합니다."
   ]
  },
  {
   "cell_type": "code",
   "execution_count": null,
   "metadata": {},
   "outputs": [],
   "source": [
    "system_prompt_tools_specific_tools = \"\"\"Here are the functions available in JSONSchema format:\n",
    "<tools>\n",
    "<tool_description>\n",
    "<tool_name>calculator</tool_name>\n",
    "<description>\n",
    "Calculator function for doing basic arithmetic.\n",
    "Supports addition, subtraction, multiplication\n",
    "</description>\n",
    "<parameters>\n",
    "<parameter>\n",
    "<name>first_operand</name>\n",
    "<type>int</type>\n",
    "<description>First operand (before the operator)</description>\n",
    "</parameter>\n",
    "<parameter>\n",
    "<name>second_operand</name>\n",
    "<type>int</type>\n",
    "<description>Second operand (after the operator)</description>\n",
    "</parameter>\n",
    "<parameter>\n",
    "<name>operator</name>\n",
    "<type>str</type>\n",
    "<description>The operation to perform. Must be either +, -, *, or /</description>\n",
    "</parameter>\n",
    "</parameters>\n",
    "</tool_description>\n",
    "</tools>\n",
    "\"\"\"\n",
    "\n",
    "system_prompt = system_prompt_tools_general_explanation + system_prompt_tools_specific_tools"
   ]
  },
  {
   "cell_type": "markdown",
   "metadata": {},
   "source": [
    "이제 `calculator` 도구를 사용해야 하는 질문을 Claude에게 제공할 수 있습니다. Claude가 함수를 호출하는 경우와 시기를 감지하기 위해 `stop_sequences`에 `<function_calls\\>`를 사용할 것입니다."
   ]
  },
  {
   "cell_type": "code",
   "execution_count": null,
   "metadata": {},
   "outputs": [],
   "source": [
    "multiplication_message = {\n",
    "    \"role\": \"user\",\n",
    "    \"content\": \"Multiply 1,984,135 by 9,343,116\"\n",
    "}\n",
    "\n",
    "stop_sequences = [\"</function_calls>\"]\n",
    "\n",
    "# Claude의 응답 가져오기\n",
    "function_calling_response = get_completion([multiplication_message], system_prompt=system_prompt, stop_sequences=stop_sequences)\n",
    "print(function_calling_response)"
   ]
  },
  {
   "cell_type": "markdown",
   "metadata": {},
   "source": [
    "이제 Claude의 함수 호출에서 매개변수를 추출하고 실제로 Claude를 대신하여 함수를 실행할 수 있습니다.\n",
    "\n",
    "먼저 함수의 코드를 정의하겠습니다."
   ]
  },
  {
   "cell_type": "code",
   "execution_count": null,
   "metadata": {},
   "outputs": [],
   "source": [
    "def do_pairwise_arithmetic(num1, num2, operation):\n",
    "    if operation == '+':\n",
    "        return num1 + num2\n",
    "    elif operation == \"-\":\n",
    "        return num1 - num2\n",
    "    elif operation == \"*\":\n",
    "        return num1 * num2\n",
    "    elif operation == \"/\":\n",
    "        return num1 / num2\n",
    "    else:\n",
    "        return \"Error: Operation not supported.\""
   ]
  },
  {
   "cell_type": "markdown",
   "metadata": {},
   "source": [
    "그런 다음 Claude의 함수 호출 응답에서 매개변수를 추출합니다. 모든 매개변수가 존재하면 계산기 도구를 실행합니다."
   ]
  },
  {
   "cell_type": "code",
   "execution_count": null,
   "metadata": {},
   "outputs": [],
   "source": [
    "def find_parameter(message, parameter_name):\n",
    "    parameter_start_string = f\"name=\\\"{parameter_name}\\\">\"\n",
    "    start = message.index(parameter_start_string)\n",
    "    if start == -1:\n",
    "        return None\n",
    "    if start > 0:\n",
    "        start = start + len(parameter_start_string)\n",
    "        end = start\n",
    "        while message[end] != \"<\":\n",
    "            end += 1\n",
    "    return message[start:end]\n",
    "\n",
    "first_operand = find_parameter(function_calling_response, \"first_operand\")\n",
    "second_operand = find_parameter(function_calling_response, \"second_operand\")\n",
    "operator = find_parameter(function_calling_response, \"operator\")\n",
    "\n",
    "if first_operand and second_operand and operator:\n",
    "    result = do_pairwise_arithmetic(int(first_operand), int(second_operand), operator)\n",
    "    print(\"---------------- RESULT ----------------\")\n",
    "    print(f\"{result:,}\")"
   ]
  },
  {
   "cell_type": "markdown",
   "metadata": {},
   "source": [
    "이제 결과가 있으므로, 그 결과를 Claude에게 다시 전달할 때 Claude가 그 결과가 어떤 도구와 관련되어 있는지 이해할 수 있도록 적절히 형식을 지정해야 합니다. Claude가 인식하도록 훈련된 특정 형식이 있습니다:\n",
    "\n",
    "```\n",
    "<function_results>\n",
    "<result>\n",
    "<tool_name>{TOOL_NAME}</tool_name>\n",
    "<stdout>\n",
    "{TOOL_RESULT}\n",
    "</stdout>\n",
    "</result>\n",
    "</function_results>\n",
    "```\n",
    "\n",
    "아래 셀을 실행하여 위의 도구 결과를 이 구조로 형식화하세요."
   ]
  },
  {
   "cell_type": "code",
   "execution_count": null,
   "metadata": {},
   "outputs": [],
   "source": [
    "def construct_successful_function_run_injection_prompt(invoke_results):\n",
    "    constructed_prompt = (\n",
    "        \"<function_results>\\n\"\n",
    "        + '\\n'.join(\n",
    "            f\"<result>\\n<tool_name>{res['tool_name']}</tool_name>\\n<stdout>\\n{res['tool_result']}\\n</stdout>\\n</result>\"\n",
    "            for res in invoke_results\n",
    "        ) + \"\\n</function_results>\"\n",
    "    )\n",
    "\n",
    "    return constructed_prompt\n",
    "\n",
    "formatted_results = [{\n",
    "    'tool_name': 'do_pairwise_arithmetic',\n",
    "    'tool_result': result\n",
    "}]\n",
    "function_results = construct_successful_function_run_injection_prompt(formatted_results)\n",
    "print(function_results)"
   ]
  },
  {
   "cell_type": "markdown",
   "metadata": {},
   "source": [
    "이제 해야 할 일은 이 결과를 이전과 동일한 메시지 체인에 추가하여 Claude에게 다시 보내는 것뿐입니다!"
   ]
  },
  {
   "cell_type": "code",
   "execution_count": null,
   "metadata": {},
   "outputs": [],
   "source": [
    "full_first_response = function_calling_response + \"</function_calls>\"\n",
    "\n",
    "# 전체 대화 구성\n",
    "messages = [multiplication_message,\n",
    "{\n",
    "    \"role\": \"assistant\",\n",
    "    \"content\": full_first_response\n",
    "},\n",
    "{\n",
    "    \"role\": \"user\",\n",
    "    \"content\": function_results\n",
    "}]\n",
    "   \n",
    "# Claude의 응답 출력\n",
    "final_response = get_completion(messages, system_prompt=system_prompt, stop_sequences=stop_sequences)\n",
    "print(\"------------- FINAL RESULT -------------\")\n",
    "print(final_response)"
   ]
  },
  {
   "cell_type": "markdown",
   "metadata": {},
   "source": [
    "전체 도구 사용 체인을 처음부터 끝까지 실행한 것을 축하합니다!\n",
    "\n",
    "이제 주어진 도구를 전혀 사용할 필요가 없는 질문을 Claude에게 제공하면 어떻게 될까요?"
   ]
  },
  {
   "cell_type": "code",
   "execution_count": null,
   "metadata": {},
   "outputs": [],
   "source": [
    "non_multiplication_message = {\n",
    "    \"role\": \"user\",\n",
    "    \"content\": \"Tell me the capital of France.\"\n",
    "}\n",
    "\n",
    "stop_sequences = [\"</function_calls>\"]\n",
    "\n",
    "# Claude의 응답 가져오기\n",
    "function_calling_response = get_completion([non_multiplication_message], system_prompt=system_prompt, stop_sequences=stop_sequences)\n",
    "print(function_calling_response)"
   ]
  },
  {
   "cell_type": "markdown",
   "metadata": {},
   "source": [
    "성공! 보시다시피, Claude는 필요하지 않을 때 함수를 호출하지 않아야 한다는 것을 알고 있었습니다."
   ]
  },
  {
   "cell_type": "markdown",
   "metadata": {},
   "source": [
    "---\n",
    "\n",
    "## 연습 문제\n",
    "\n",
    "- [연습 문제 10.2.1 - SQL](#exercise-1021---SQL)"
   ]
  },
  {
   "cell_type": "markdown",
   "metadata": {},
   "source": [
    "### 연습 문제 10.2.1 - SQL\n",
    "\n",
    "이 연습에서는 세계에서 가장 작은 \"데이터베이스\"를 쿼리하고 쓰기 위한 도구 사용 프롬프트를 작성할 것입니다. 다음은 초기화된 데이터베이스로, 실제로는 딕셔너리에 불과합니다."
   ]
  },
  {
   "cell_type": "code",
   "execution_count": null,
   "metadata": {},
   "outputs": [],
   "source": [
    "db = {\n",
    "    \"users\": [\n",
    "        {\"id\": 1, \"name\": \"Alice\", \"email\": \"alice@example.com\"},\n",
    "        {\"id\": 2, \"name\": \"Bob\", \"email\": \"bob@example.com\"},\n",
    "        {\"id\": 3, \"name\": \"Charlie\", \"email\": \"charlie@example.com\"}\n",
    "    ],\n",
    "    \"products\": [\n",
    "        {\"id\": 1, \"name\": \"Widget\", \"price\": 9.99},\n",
    "        {\"id\": 2, \"name\": \"Gadget\", \"price\": 14.99},\n",
    "        {\"id\": 3, \"name\": \"Doohickey\", \"price\": 19.99}\n",
    "    ]\n",
    "}"
   ]
  },
  {
   "cell_type": "markdown",
   "metadata": {},
   "source": [
    "그리고 다음은 데이터베이스에서 읽고 쓰는 함수의 코드입니다."
   ]
  },
  {
   "cell_type": "code",
   "execution_count": null,
   "metadata": {},
   "outputs": [],
   "source": [
    "def get_user(user_id):\n",
    "    for user in db[\"users\"]:\n",
    "        if user[\"id\"] == user_id:\n",
    "            return user\n",
    "    return None\n",
    "\n",
    "def get_product(product_id):\n",
    "    for product in db[\"products\"]:\n",
    "        if product[\"id\"] == product_id:\n",
    "            return product\n",
    "    return None\n",
    "\n",
    "def add_user(name, email):\n",
    "    user_id = len(db[\"users\"]) + 1\n",
    "    user = {\"id\": user_id, \"name\": name, \"email\": email}\n",
    "    db[\"users\"].append(user)\n",
    "    return user\n",
    "\n",
    "def add_product(name, price):\n",
    "    product_id = len(db[\"products\"]) + 1\n",
    "    product = {\"id\": product_id, \"name\": name, \"price\": price}\n",
    "    db[\"products\"].append(product)\n",
    "    return product"
   ]
  },
  {
   "cell_type": "markdown",
   "metadata": {},
   "source": [
    "연습 문제를 해결하려면 위의 `system_prompt_tools_specific_tools`와 같은 시스템 프롬프트를 정의하는 것부터 시작하세요. 각 도구의 이름과 설명, 그리고 각 함수의 각 매개변수의 이름, 유형 및 설명을 포함해야 합니다. 아래에 시작 스캐폴딩을 제공했습니다."
   ]
  },
  {
   "cell_type": "code",
   "execution_count": null,
   "metadata": {},
   "outputs": [],
   "source": [
    "system_prompt_tools_specific_tools_sql = \"\"\"\n",
    "\"\"\"\n",
    "\n",
    "system_prompt = system_prompt_tools_general_explanation + system_prompt_tools_specific_tools_sql"
   ]
  },
  {
   "cell_type": "markdown",
   "metadata": {},
   "source": [
    "준비가 되면 아래 예제에서 도구 정의 시스템 프롬프트를 시도해 볼 수 있습니다. 아래 셀을 실행하기만 하면 됩니다!"
   ]
  },
  {
   "cell_type": "code",
   "execution_count": null,
   "metadata": {},
   "outputs": [],
   "source": [
    "examples = [\n",
    "    \"Add a user to the database named Deborah.\",\n",
    "    \"Add a product to the database named Thingo\",\n",
    "    \"Tell me the name of User 2\",\n",
    "    \"Tell me the name of Product 3\"\n",
    "]\n",
    "\n",
    "for example in examples:\n",
    "    message = {\n",
    "        \"role\": \"user\",\n",
    "        \"content\": example\n",
    "    }\n",
    "\n",
    "    # Claude의 응답 가져오기 및 출력\n",
    "    function_calling_response = get_completion([message], system_prompt=system_prompt, stop_sequences=stop_sequences)\n",
    "    print(example, \"\\n----------\\n\\n\", function_calling_response, \"\\n*********\\n*********\\n*********\\n\\n\")"
   ]
  },
  {
   "cell_type": "markdown",
   "metadata": {},
   "source": [
    "올바르게 했다면 함수 호출 메시지가 `add_user`, `add_product`, `get_user`, `get_product` 함수를 올바르게 호출해야 합니다.\n",
    "\n",
    "추가 점수를 위해 코드 셀을 추가하고 매개변수 파싱 코드를 작성하세요. 그런 다음 Claude가 제공한 매개변수로 함수를 호출하여 호출 후 \"데이터베이스\"의 상태를 확인하세요."
   ]
  },
  {
   "cell_type": "markdown",
   "metadata": {},
   "source": [
    "❓ 가능한 솔루션을 보고 싶다면 아래 셀을 실행하세요!"
   ]
  },
  {
   "cell_type": "code",
   "execution_count": null,
   "metadata": {},
   "outputs": [],
   "source": [
    "from hints import exercise_10_2_1_solution; print(exercise_10_2_1_solution)"
   ]
  },
  {
   "cell_type": "markdown",
   "metadata": {},
   "source": [
    "### 축하합니다!\n",
    "\n",
    "도구 사용과 함수 호출을 배운 것을 축하합니다! 검색 및 RAG에 대해 더 알고 싶다면 마지막 부록 섹션으로 이동하세요."
   ]
  }
 ],
 "metadata": {
  "kernelspec": {
   "display_name": "py310",
   "language": "python",
   "name": "python3"
  },
  "language_info": {
   "codemirror_mode": {
    "name": "ipython",
    "version": 3
   },
   "file_extension": ".py",
   "mimetype": "text/x-python",
   "name": "python",
   "nbconvert_exporter": "python",
   "pygments_lexer": "ipython3",
   "version": "3.10.14"
  }
 },
 "nbformat": 4,
 "nbformat_minor": 2
}
