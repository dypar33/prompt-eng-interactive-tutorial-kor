{
 "cells": [
  {
   "cell_type": "markdown",
   "metadata": {},
   "source": [
    "# 튜토리얼 사용 방법\n",
    "\n",
    "이 튜토리얼은 상호작용을 위해 **API 키가 필요합니다**. API 키가 없는 경우 [Anthropic 콘솔](https://console.anthropic.com/)을 통해 가입하거나 대신 [정적 튜토리얼 정답 키](https://docs.google.com/spreadsheets/u/0/d/1jIxjzUWG-6xBVIa2ay6yDpLyeuOh_hR_ZB75a47KX_E/edit)를 볼 수 있습니다."
   ]
  },
  {
   "cell_type": "markdown",
   "metadata": {},
   "source": [
    "## 시작하는 방법\n",
    "\n",
    "1. 이 저장소를 로컬 머신에 클론합니다.\n",
    "\n",
    "2. 다음 명령을 실행하여 필요한 종속성을 설치합니다:\n",
    " "
   ]
  },
  {
   "cell_type": "code",
   "execution_count": null,
   "metadata": {},
   "outputs": [
    {
     "ename": "",
     "evalue": "",
     "output_type": "error",
     "traceback": [
      "\u001b[1;31mRunning cells with 'Python 3.12.7' requires the ipykernel package.\n",
      "\u001b[1;31m<a href='command:jupyter.createPythonEnvAndSelectController'>Create a Python Environment</a> with the required packages.\n",
      "\u001b[1;31mOr install 'ipykernel' using the command: '/usr/bin/python3.12 -m pip install ipykernel -U --user --force-reinstall'"
     ]
    }
   ],
   "source": [
    "!pip install anthropic"
   ]
  },
  {
   "cell_type": "markdown",
   "metadata": {},
   "source": [
    "3. API 키와 모델 이름을 설정합니다. `\"your_api_key_here\"`를 실제 Anthropic API 키로 바꿉니다."
   ]
  },
  {
   "cell_type": "code",
   "execution_count": null,
   "metadata": {},
   "outputs": [
    {
     "ename": "",
     "evalue": "",
     "output_type": "error",
     "traceback": [
      "\u001b[1;31mRunning cells with 'Python 3.12.7' requires the ipykernel package.\n",
      "\u001b[1;31m<a href='command:jupyter.createPythonEnvAndSelectController'>Create a Python Environment</a> with the required packages.\n",
      "\u001b[1;31mOr install 'ipykernel' using the command: '/usr/bin/python3.12 -m pip install ipykernel -U --user --force-reinstall'"
     ]
    }
   ],
   "source": [
    "API_KEY = \"your_api_key_here\"\n",
    "MODEL_NAME = \"claude-3-haiku-20240307\"\n",
    "\n",
    "# API_KEY 및 MODEL_NAME 변수를 IPython 저장소 내의 노트북 전체에서 사용하기 위해 저장합니다\n",
    "%store API_KEY\n",
    "%store MODEL_NAME"
   ]
  },
  {
   "cell_type": "markdown",
   "metadata": {},
   "source": [
    "4. 제공된 지침에 따라 노트북 셀을 순서대로 실행합니다."
   ]
  },
  {
   "cell_type": "markdown",
   "metadata": {},
   "source": [
    "---\n",
    "\n",
    "## 사용 참고 사항 및 팁 💡\n",
    "\n",
    "- 이 과정은 온도 0으로 설정된 Claude 3 Haiku를 사용합니다. 온도에 대해서는 과정 후반부에 더 자세히 다룰 것입니다. 지금은 이러한 설정이 더 결정적인 결과를 제공한다는 것을 이해하는 것으로 충분합니다. 이 과정의 모든 프롬프트 엔지니어링 기법은 Claude 2 및 Claude Instant 1.2와 같은 이전 세대의 레거시 Claude 모델에도 적용됩니다.\n",
    "\n",
    "- 셀을 실행하고 다음 셀로 이동하려면 `Shift + Enter`를 사용할 수 있습니다.\n",
    "\n",
    "- 튜토리얼 페이지의 하단에 도달하면 폴더 내의 다음 번호가 매겨진 파일로 이동하거나, 해당 장 파일 내의 내용을 완료한 경우 다음 번호가 매겨진 폴더로 이동합니다.\n",
    "\n",
    "### Anthropic SDK 및 Messages API\n",
    "이 튜토리얼 전체에서 [Anthropic 파이썬 SDK](https://docs.anthropic.com/claude/reference/client-sdks)와 [Messages API](https://docs.anthropic.com/claude/reference/messages_post)를 사용할 것입니다. \n",
    "\n",
    "아래는 이 튜토리얼에서 프롬프트를 실행하는 모습의 예시입니다. 먼저, Claude에 프롬프트를 보내고 Claude가 생성한 응답을 반환하는 도우미 함수인 `get_completion`을 만듭니다. 지금 해당 셀을 실행하세요."
   ]
  },
  {
   "cell_type": "code",
   "execution_count": null,
   "metadata": {},
   "outputs": [],
   "source": [
    "import anthropic\n",
    "\n",
    "client = anthropic.Anthropic(api_key=API_KEY)\n",
    "\n",
    "def get_completion(prompt: str):\n",
    "    message = client.messages.create(\n",
    "        model=MODEL_NAME,\n",
    "        max_tokens=2000,\n",
    "        temperature=0.0,\n",
    "        messages=[\n",
    "          {\"role\": \"user\", \"content\": prompt}\n",
    "        ]\n",
    "    )\n",
    "    return message.content[0].text"
   ]
  },
  {
   "cell_type": "markdown",
   "metadata": {},
   "source": [
    "이제 Claude를 위한 예시 프롬프트를 작성하고 `get_completion` 도우미 함수를 실행하여 Claude의 출력을 출력합니다. 아래 셀을 실행하면 그 아래에 Claude의 응답이 출력됩니다.\n",
    "\n",
    "Claude로부터 다른 응답을 이끌어내기 위해 프롬프트 문자열을 자유롭게 변경해 보세요."
   ]
  },
  {
   "cell_type": "code",
   "execution_count": null,
   "metadata": {},
   "outputs": [],
   "source": [
    "# 프롬프트\n",
    "prompt = \"Hello, Claude!\"\n",
    "\n",
    "# Claude의 응답 가져오기\n",
    "print(get_completion(prompt))"
   ]
  },
  {
   "cell_type": "markdown",
   "metadata": {},
   "source": [
    "앞서 정의한 `API_KEY` 및 `MODEL_NAME` 변수는 튜토리얼 전체에서 사용됩니다. 각 튜토리얼 페이지의 셀을 위에서 아래로 실행하기만 하면 됩니다."
   ]
  }
 ],
 "metadata": {
  "kernelspec": {
   "display_name": "Python 3",
   "language": "python",
   "name": "python3"
  },
  "language_info": {
   "codemirror_mode": {
    "name": "ipython",
    "version": 3
   },
   "file_extension": ".py",
   "mimetype": "text/x-python",
   "name": "python",
   "nbconvert_exporter": "python",
   "pygments_lexer": "ipython3",
   "version": "3.12.7"
  }
 },
 "nbformat": 4,
 "nbformat_minor": 2
}
